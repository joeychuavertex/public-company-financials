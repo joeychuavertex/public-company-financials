{
 "cells": [
  {
   "cell_type": "code",
   "execution_count": 3,
   "metadata": {
    "collapsed": true
   },
   "outputs": [],
   "source": [
    "import pandas as pd\n",
    "import requests\n",
    "import datetime as dt"
   ]
  },
  {
   "cell_type": "code",
   "execution_count": 4,
   "outputs": [],
   "source": [
    "key = open(\"api_token.txt\").read()\n",
    "today = dt.date.today()\n",
    "start_date = today - dt.timedelta(365)"
   ],
   "metadata": {
    "collapsed": false,
    "pycharm": {
     "name": "#%%\n"
    }
   }
  },
  {
   "cell_type": "code",
   "execution_count": 8,
   "outputs": [],
   "source": [
    "call = f\"https://eodhistoricaldata.com/api/historical-market-cap/AAPL.US?api_token={key}\"\n",
    "call += f\"&fmt=json&from={start_date}&to={today}\""
   ],
   "metadata": {
    "collapsed": false,
    "pycharm": {
     "name": "#%%\n"
    }
   }
  },
  {
   "cell_type": "code",
   "execution_count": 10,
   "outputs": [
    {
     "name": "stdout",
     "output_type": "stream",
     "text": [
      "          date          value\n",
      "0   2021-11-23  2648156539800\n",
      "1   2021-11-30  2711977424100\n",
      "2   2021-12-07  2808447038500\n",
      "3   2021-12-14  2860127189000\n",
      "4   2021-12-21  2838142617000\n",
      "5   2021-12-28  2929751175800\n",
      "6   2022-01-03  2973018865700\n",
      "7   2022-01-10  2812615342500\n",
      "8   2022-01-18  2771041081800\n",
      "9   2022-01-25  2607520283000\n",
      "10  2022-02-01  2849537593000\n",
      "11  2022-02-08  2853127870000\n",
      "12  2022-02-15  2819836210400\n",
      "13  2022-02-22  2681610545100\n",
      "14  2022-03-01  2663332771200\n",
      "15  2022-03-08  2569332791000\n",
      "16  2022-03-15  2530982104700\n",
      "17  2022-03-22  2755048029600\n",
      "18  2022-03-29  2900506369300\n",
      "19  2022-04-05  2837296854100\n",
      "20  2022-04-12  2717360850900\n",
      "21  2022-04-19  2709399299400\n",
      "22  2022-04-26  2537836380800\n",
      "23  2022-05-03  2581212665900\n",
      "24  2022-05-10  2500772316300\n",
      "25  2022-05-17  2415476412400\n",
      "26  2022-05-24  2271752005200\n",
      "27  2022-05-31  2409002340000\n",
      "28  2022-06-07  2406898266500\n",
      "29  2022-06-14  2148744629600\n",
      "30  2022-06-21  2199080542500\n",
      "31  2022-06-28  2212148752300\n",
      "32  2022-07-05  2278461709700\n",
      "33  2022-07-12  2347671835100\n",
      "34  2022-07-19  2426683552000\n",
      "35  2022-07-26  2436326003200\n",
      "36  2022-08-02  2571481027500\n",
      "37  2022-08-09  2650388419800\n",
      "38  2022-08-16  2780722218600\n",
      "39  2022-08-23  2687511857000\n",
      "40  2022-08-30  2553803200300\n",
      "41  2022-09-06  2483413306600\n",
      "42  2022-09-13  2472324487700\n",
      "43  2022-09-20  2521500988800\n",
      "44  2022-09-27  2419574178000\n",
      "45  2022-10-04  2329334392500\n",
      "46  2022-10-11  2215817206500\n",
      "47  2022-10-18  2286791962500\n",
      "48  2022-10-25  2423442696100\n",
      "49  2022-11-01  2396557976700\n",
      "50  2022-11-08  2219182461000\n",
      "51  2022-11-15  2386854024700\n",
      "52  2022-11-18  2397989707400\n"
     ]
    }
   ],
   "source": [
    "data = pd.DataFrame(requests.get(call).json())\n",
    "print(data.T)"
   ],
   "metadata": {
    "collapsed": false,
    "pycharm": {
     "name": "#%%\n"
    }
   }
  },
  {
   "cell_type": "code",
   "execution_count": 11,
   "outputs": [],
   "source": [
    "call = f\"https://eodhistoricaldata.com/api/fundamentals/AAPL.US?api_token={key}\""
   ],
   "metadata": {
    "collapsed": false,
    "pycharm": {
     "name": "#%%\n"
    }
   }
  },
  {
   "cell_type": "code",
   "execution_count": 14,
   "outputs": [
    {
     "name": "stdout",
     "output_type": "stream",
     "text": [
      "{'Code': 'AAPL', 'Type': 'Common Stock', 'Name': 'Apple Inc', 'Exchange': 'NASDAQ', 'CurrencyCode': 'USD', 'CurrencyName': 'US Dollar', 'CurrencySymbol': '$', 'CountryName': 'USA', 'CountryISO': 'US', 'ISIN': 'US0378331005', 'CUSIP': '037833100', 'CIK': '320193', 'EmployerIdNumber': '94-2404110', 'FiscalYearEnd': 'September', 'IPODate': '1980-12-12', 'InternationalDomestic': 'International/Domestic', 'Sector': 'Technology', 'Industry': 'Consumer Electronics', 'GicSector': 'Information Technology', 'GicGroup': 'Technology Hardware & Equipment', 'GicIndustry': 'Technology Hardware, Storage & Peripherals', 'GicSubIndustry': 'Technology Hardware, Storage & Peripherals', 'HomeCategory': 'Domestic', 'IsDelisted': False, 'Description': 'Apple Inc. designs, manufactures, and markets smartphones, personal computers, tablets, wearables, and accessories worldwide. It also sells various related services. In addition, the company offers iPhone, a line of smartphones; Mac, a line of personal computers; iPad, a line of multi-purpose tablets; and wearables, home, and accessories comprising AirPods, Apple TV, Apple Watch, Beats products, and HomePod. Further, it provides AppleCare support and cloud services store services; and operates various platforms, including the App Store that allow customers to discover and download applications and digital content, such as books, music, video, games, and podcasts. Additionally, the company offers various services, such as Apple Arcade, a game subscription service; Apple Fitness+, a personalized fitness service; Apple Music, which offers users a curated listening experience with on-demand radio stations; Apple News+, a subscription news and magazine service; Apple TV+, which offers exclusive original content; Apple Card, a co-branded credit card; and Apple Pay, a cashless payment service, as well as licenses its intellectual property. The company serves consumers, and small and mid-sized businesses; and the education, enterprise, and government markets. It distributes third-party applications for its products through the App Store. The company also sells its products through its retail and online stores, and direct sales force; and third-party cellular network carriers, wholesalers, retailers, and resellers. Apple Inc. was incorporated in 1977 and is headquartered in Cupertino, California.', 'Address': 'One Apple Park Way, Cupertino, CA, United States, 95014', 'AddressData': {'Street': 'One Apple Park Way', 'City': 'Cupertino', 'State': 'CA', 'Country': 'United States', 'ZIP': '95014'}, 'Listings': {'0': {'Code': '0R2V', 'Exchange': 'LSE', 'Name': 'Apple Inc.'}, '1': {'Code': 'AAPL', 'Exchange': 'BA', 'Name': 'Apple Inc DRC'}, '2': {'Code': 'AAPL34', 'Exchange': 'SA', 'Name': 'Apple Inc'}}, 'Officers': {'0': {'Name': 'Mr. Timothy D. Cook', 'Title': 'CEO & Director', 'YearBorn': '1961'}, '1': {'Name': 'Mr. Luca  Maestri', 'Title': 'CFO & Sr. VP', 'YearBorn': '1964'}, '2': {'Name': 'Mr. Jeffrey E. Williams', 'Title': 'Chief Operating Officer', 'YearBorn': '1964'}, '3': {'Name': 'Ms. Katherine L. Adams', 'Title': 'Sr. VP, Gen. Counsel & Sec.', 'YearBorn': '1964'}, '4': {'Name': \"Ms. Deirdre  O'Brien\", 'Title': 'Sr. VP of People & Retail', 'YearBorn': '1967'}, '5': {'Name': 'Mr. Chris  Kondo', 'Title': 'Sr. Director of Corp. Accounting', 'YearBorn': 'NA'}, '6': {'Name': 'Mr. James  Wilson', 'Title': 'Chief Technology Officer', 'YearBorn': 'NA'}, '7': {'Name': 'Ms. Mary  Demby', 'Title': 'Chief Information Officer', 'YearBorn': 'NA'}, '8': {'Name': 'Ms. Nancy  Paxton', 'Title': 'Sr. Director of Investor Relations & Treasury', 'YearBorn': 'NA'}, '9': {'Name': 'Mr. Greg  Joswiak', 'Title': 'Sr. VP of Worldwide Marketing', 'YearBorn': 'NA'}}, 'Phone': '408 996 1010', 'WebURL': 'https://www.apple.com', 'LogoURL': '/img/logos/US/aapl.png', 'FullTimeEmployees': 164000, 'UpdatedAt': '2022-11-19'}\n"
     ]
    }
   ],
   "source": [
    "json_data = requests.get(call).json()\n",
    "general_data = json_data[\"General\"]\n",
    "print(general_data)"
   ],
   "metadata": {
    "collapsed": false,
    "pycharm": {
     "name": "#%%\n"
    }
   }
  },
  {
   "cell_type": "code",
   "execution_count": 15,
   "outputs": [],
   "source": [
    "call = f\"https://eodhistoricaldata.com/api/fundamentals/AAPL.US?api_token={key}\"\n",
    "json_data = requests.get(call).json()\n",
    "financial_data = json_data[\"Financials\"]"
   ],
   "metadata": {
    "collapsed": false,
    "pycharm": {
     "name": "#%%\n"
    }
   }
  },
  {
   "cell_type": "code",
   "execution_count": 16,
   "outputs": [
    {
     "name": "stdout",
     "output_type": "stream",
     "text": [
      "                  date filing_date currency_symbol researchDevelopment  \\\n",
      "2022-09-30  2022-09-30  2022-10-28             USD       6761000000.00   \n",
      "2022-06-30  2022-06-30  2022-07-29             USD       6797000000.00   \n",
      "2022-03-31  2022-03-31  2022-04-29             USD       6387000000.00   \n",
      "2021-12-31  2021-12-31  2022-01-28             USD       6306000000.00   \n",
      "2021-09-30  2021-09-30  2021-10-29             USD       5772000000.00   \n",
      "...                ...         ...             ...                 ...   \n",
      "1986-09-30  1986-09-30  1986-09-30             USD                None   \n",
      "1986-06-30  1986-06-30  1986-06-30             USD                None   \n",
      "1986-03-31  1986-03-31  1986-03-31             USD                None   \n",
      "1985-12-31  1985-12-31  1985-12-31             USD                None   \n",
      "1985-09-30  1985-09-30  1985-09-30             USD                None   \n",
      "\n",
      "           effectOfAccountingCharges incomeBeforeTax minorityInterest  \\\n",
      "2022-09-30                      None  24657000000.00             None   \n",
      "2022-06-30                      None  23066000000.00             None   \n",
      "2022-03-31                      None  30139000000.00             None   \n",
      "2021-12-31                      None  41241000000.00             None   \n",
      "2021-09-30                      None  23248000000.00             None   \n",
      "...                              ...             ...              ...   \n",
      "1986-09-30                      None            None             None   \n",
      "1986-06-30                      None            None             None   \n",
      "1986-03-31                      None            None             None   \n",
      "1985-12-31                      None            None             None   \n",
      "1985-09-30                      None            None             None   \n",
      "\n",
      "                 netIncome sellingGeneralAdministrative  \\\n",
      "2022-09-30  20721000000.00                6440000000.00   \n",
      "2022-06-30  19442000000.00                6012000000.00   \n",
      "2022-03-31  25010000000.00                6193000000.00   \n",
      "2021-12-31  34630000000.00                6449000000.00   \n",
      "2021-09-30  20551000000.00                5616000000.00   \n",
      "...                    ...                          ...   \n",
      "1986-09-30            None                         None   \n",
      "1986-06-30            None                         None   \n",
      "1986-03-31            None                         None   \n",
      "1985-12-31            None                         None   \n",
      "1985-09-30            None                         None   \n",
      "\n",
      "           sellingAndMarketingExpenses  ... otherItems incomeTaxExpense  \\\n",
      "2022-09-30                        None  ...       None    3936000000.00   \n",
      "2022-06-30                        None  ...       None    3624000000.00   \n",
      "2022-03-31                        None  ...       None    5129000000.00   \n",
      "2021-12-31                        None  ...       None    6611000000.00   \n",
      "2021-09-30                        None  ...       None    2697000000.00   \n",
      "...                                ...  ...        ...              ...   \n",
      "1986-09-30                        None  ...       None             None   \n",
      "1986-06-30                        None  ...       None             None   \n",
      "1986-03-31                        None  ...       None             None   \n",
      "1985-12-31                        None  ...       None             None   \n",
      "1985-09-30                        None  ...       None             None   \n",
      "\n",
      "               totalRevenue totalOperatingExpenses   costOfRevenue  \\\n",
      "2022-09-30   90146000000.00         13201000000.00  52051000000.00   \n",
      "2022-06-30   82959000000.00         12809000000.00  47074000000.00   \n",
      "2022-03-31   97278000000.00         12580000000.00  54719000000.00   \n",
      "2021-12-31  123945000000.00         12755000000.00  69702000000.00   \n",
      "2021-09-30   83360000000.00         11388000000.00  48186000000.00   \n",
      "...                     ...                    ...             ...   \n",
      "1986-09-30     510800000.00                   None            None   \n",
      "1986-06-30     448300000.00                   None            None   \n",
      "1986-03-31     408900000.00                   None            None   \n",
      "1985-12-31     533900000.00                   None            None   \n",
      "1985-09-30     409700000.00                   None            None   \n",
      "\n",
      "           totalOtherIncomeExpenseNet discontinuedOperations  \\\n",
      "2022-09-30              -237000000.00                   None   \n",
      "2022-06-30               -10000000.00                   None   \n",
      "2022-03-31               160000000.00                   None   \n",
      "2021-12-31              -247000000.00                   None   \n",
      "2021-09-30              -538000000.00                   None   \n",
      "...                               ...                    ...   \n",
      "1986-09-30                       None                   None   \n",
      "1986-06-30                       None                   None   \n",
      "1986-03-31                       None                   None   \n",
      "1985-12-31                       None                   None   \n",
      "1985-09-30                       None                   None   \n",
      "\n",
      "           netIncomeFromContinuingOps netIncomeApplicableToCommonShares  \\\n",
      "2022-09-30             20721000000.00                    20721000000.00   \n",
      "2022-06-30             19442000000.00                    19442000000.00   \n",
      "2022-03-31             25010000000.00                    25010000000.00   \n",
      "2021-12-31             34630000000.00                    34630000000.00   \n",
      "2021-09-30             20551000000.00                    20551000000.00   \n",
      "...                               ...                               ...   \n",
      "1986-09-30                       None                              None   \n",
      "1986-06-30                       None                              None   \n",
      "1986-03-31                       None                              None   \n",
      "1985-12-31                       None                              None   \n",
      "1985-09-30                       None                              None   \n",
      "\n",
      "           preferredStockAndOtherAdjustments  \n",
      "2022-09-30                              None  \n",
      "2022-06-30                              None  \n",
      "2022-03-31                              None  \n",
      "2021-12-31                              None  \n",
      "2021-09-30                              None  \n",
      "...                                      ...  \n",
      "1986-09-30                              None  \n",
      "1986-06-30                              None  \n",
      "1986-03-31                              None  \n",
      "1985-12-31                              None  \n",
      "1985-09-30                              None  \n",
      "\n",
      "[149 rows x 34 columns]\n"
     ]
    }
   ],
   "source": [
    "income_statement = pd.DataFrame(financial_data[\"Income_Statement\"][\"quarterly\"])\n",
    "income_statement_transpose = income_statement.T\n",
    "print(income_statement_transpose)"
   ],
   "metadata": {
    "collapsed": false,
    "pycharm": {
     "name": "#%%\n"
    }
   }
  },
  {
   "cell_type": "code",
   "execution_count": 25,
   "outputs": [],
   "source": [
    "income_statement_transpose['date'] = pd.to_datetime(income_statement_transpose['date']).dt.date\n",
    "income_statement_transpose = income_statement_transpose.loc[(income_statement_transpose['date'] >= start_date) & (income_statement_transpose['date'] < today)]\n"
   ],
   "metadata": {
    "collapsed": false,
    "pycharm": {
     "name": "#%%\n"
    }
   }
  },
  {
   "cell_type": "code",
   "execution_count": 26,
   "outputs": [
    {
     "name": "stdout",
     "output_type": "stream",
     "text": [
      "                  date filing_date currency_symbol researchDevelopment  \\\n",
      "2022-09-30  2022-09-30  2022-10-28             USD       6761000000.00   \n",
      "2022-06-30  2022-06-30  2022-07-29             USD       6797000000.00   \n",
      "2022-03-31  2022-03-31  2022-04-29             USD       6387000000.00   \n",
      "2021-12-31  2021-12-31  2022-01-28             USD       6306000000.00   \n",
      "\n",
      "           effectOfAccountingCharges incomeBeforeTax minorityInterest  \\\n",
      "2022-09-30                      None  24657000000.00             None   \n",
      "2022-06-30                      None  23066000000.00             None   \n",
      "2022-03-31                      None  30139000000.00             None   \n",
      "2021-12-31                      None  41241000000.00             None   \n",
      "\n",
      "                 netIncome sellingGeneralAdministrative  \\\n",
      "2022-09-30  20721000000.00                6440000000.00   \n",
      "2022-06-30  19442000000.00                6012000000.00   \n",
      "2022-03-31  25010000000.00                6193000000.00   \n",
      "2021-12-31  34630000000.00                6449000000.00   \n",
      "\n",
      "           sellingAndMarketingExpenses  ... otherItems incomeTaxExpense  \\\n",
      "2022-09-30                        None  ...       None    3936000000.00   \n",
      "2022-06-30                        None  ...       None    3624000000.00   \n",
      "2022-03-31                        None  ...       None    5129000000.00   \n",
      "2021-12-31                        None  ...       None    6611000000.00   \n",
      "\n",
      "               totalRevenue totalOperatingExpenses   costOfRevenue  \\\n",
      "2022-09-30   90146000000.00         13201000000.00  52051000000.00   \n",
      "2022-06-30   82959000000.00         12809000000.00  47074000000.00   \n",
      "2022-03-31   97278000000.00         12580000000.00  54719000000.00   \n",
      "2021-12-31  123945000000.00         12755000000.00  69702000000.00   \n",
      "\n",
      "           totalOtherIncomeExpenseNet discontinuedOperations  \\\n",
      "2022-09-30              -237000000.00                   None   \n",
      "2022-06-30               -10000000.00                   None   \n",
      "2022-03-31               160000000.00                   None   \n",
      "2021-12-31              -247000000.00                   None   \n",
      "\n",
      "           netIncomeFromContinuingOps netIncomeApplicableToCommonShares  \\\n",
      "2022-09-30             20721000000.00                    20721000000.00   \n",
      "2022-06-30             19442000000.00                    19442000000.00   \n",
      "2022-03-31             25010000000.00                    25010000000.00   \n",
      "2021-12-31             34630000000.00                    34630000000.00   \n",
      "\n",
      "           preferredStockAndOtherAdjustments  \n",
      "2022-09-30                              None  \n",
      "2022-06-30                              None  \n",
      "2022-03-31                              None  \n",
      "2021-12-31                              None  \n",
      "\n",
      "[4 rows x 34 columns]\n"
     ]
    }
   ],
   "source": [
    "print(income_statement_transpose)"
   ],
   "metadata": {
    "collapsed": false,
    "pycharm": {
     "name": "#%%\n"
    }
   }
  },
  {
   "cell_type": "code",
   "execution_count": 6,
   "outputs": [
    {
     "ename": "JSONDecodeError",
     "evalue": "Expecting value: line 1 column 1 (char 0)",
     "output_type": "error",
     "traceback": [
      "\u001B[0;31m---------------------------------------------------------------------------\u001B[0m",
      "\u001B[0;31mJSONDecodeError\u001B[0m                           Traceback (most recent call last)",
      "File \u001B[0;32m~/PycharmProjects/eod-data/venv/lib/python3.9/site-packages/requests/models.py:971\u001B[0m, in \u001B[0;36mResponse.json\u001B[0;34m(self, **kwargs)\u001B[0m\n\u001B[1;32m    970\u001B[0m \u001B[38;5;28;01mtry\u001B[39;00m:\n\u001B[0;32m--> 971\u001B[0m     \u001B[38;5;28;01mreturn\u001B[39;00m \u001B[43mcomplexjson\u001B[49m\u001B[38;5;241;43m.\u001B[39;49m\u001B[43mloads\u001B[49m\u001B[43m(\u001B[49m\u001B[38;5;28;43mself\u001B[39;49m\u001B[38;5;241;43m.\u001B[39;49m\u001B[43mtext\u001B[49m\u001B[43m,\u001B[49m\u001B[43m \u001B[49m\u001B[38;5;241;43m*\u001B[39;49m\u001B[38;5;241;43m*\u001B[39;49m\u001B[43mkwargs\u001B[49m\u001B[43m)\u001B[49m\n\u001B[1;32m    972\u001B[0m \u001B[38;5;28;01mexcept\u001B[39;00m JSONDecodeError \u001B[38;5;28;01mas\u001B[39;00m e:\n\u001B[1;32m    973\u001B[0m     \u001B[38;5;66;03m# Catch JSON-related errors and raise as requests.JSONDecodeError\u001B[39;00m\n\u001B[1;32m    974\u001B[0m     \u001B[38;5;66;03m# This aliases json.JSONDecodeError and simplejson.JSONDecodeError\u001B[39;00m\n",
      "File \u001B[0;32m/Library/Developer/CommandLineTools/Library/Frameworks/Python3.framework/Versions/3.9/lib/python3.9/json/__init__.py:346\u001B[0m, in \u001B[0;36mloads\u001B[0;34m(s, cls, object_hook, parse_float, parse_int, parse_constant, object_pairs_hook, **kw)\u001B[0m\n\u001B[1;32m    343\u001B[0m \u001B[38;5;28;01mif\u001B[39;00m (\u001B[38;5;28mcls\u001B[39m \u001B[38;5;129;01mis\u001B[39;00m \u001B[38;5;28;01mNone\u001B[39;00m \u001B[38;5;129;01mand\u001B[39;00m object_hook \u001B[38;5;129;01mis\u001B[39;00m \u001B[38;5;28;01mNone\u001B[39;00m \u001B[38;5;129;01mand\u001B[39;00m\n\u001B[1;32m    344\u001B[0m         parse_int \u001B[38;5;129;01mis\u001B[39;00m \u001B[38;5;28;01mNone\u001B[39;00m \u001B[38;5;129;01mand\u001B[39;00m parse_float \u001B[38;5;129;01mis\u001B[39;00m \u001B[38;5;28;01mNone\u001B[39;00m \u001B[38;5;129;01mand\u001B[39;00m\n\u001B[1;32m    345\u001B[0m         parse_constant \u001B[38;5;129;01mis\u001B[39;00m \u001B[38;5;28;01mNone\u001B[39;00m \u001B[38;5;129;01mand\u001B[39;00m object_pairs_hook \u001B[38;5;129;01mis\u001B[39;00m \u001B[38;5;28;01mNone\u001B[39;00m \u001B[38;5;129;01mand\u001B[39;00m \u001B[38;5;129;01mnot\u001B[39;00m kw):\n\u001B[0;32m--> 346\u001B[0m     \u001B[38;5;28;01mreturn\u001B[39;00m \u001B[43m_default_decoder\u001B[49m\u001B[38;5;241;43m.\u001B[39;49m\u001B[43mdecode\u001B[49m\u001B[43m(\u001B[49m\u001B[43ms\u001B[49m\u001B[43m)\u001B[49m\n\u001B[1;32m    347\u001B[0m \u001B[38;5;28;01mif\u001B[39;00m \u001B[38;5;28mcls\u001B[39m \u001B[38;5;129;01mis\u001B[39;00m \u001B[38;5;28;01mNone\u001B[39;00m:\n",
      "File \u001B[0;32m/Library/Developer/CommandLineTools/Library/Frameworks/Python3.framework/Versions/3.9/lib/python3.9/json/decoder.py:337\u001B[0m, in \u001B[0;36mJSONDecoder.decode\u001B[0;34m(self, s, _w)\u001B[0m\n\u001B[1;32m    333\u001B[0m \u001B[38;5;124;03m\"\"\"Return the Python representation of ``s`` (a ``str`` instance\u001B[39;00m\n\u001B[1;32m    334\u001B[0m \u001B[38;5;124;03mcontaining a JSON document).\u001B[39;00m\n\u001B[1;32m    335\u001B[0m \n\u001B[1;32m    336\u001B[0m \u001B[38;5;124;03m\"\"\"\u001B[39;00m\n\u001B[0;32m--> 337\u001B[0m obj, end \u001B[38;5;241m=\u001B[39m \u001B[38;5;28;43mself\u001B[39;49m\u001B[38;5;241;43m.\u001B[39;49m\u001B[43mraw_decode\u001B[49m\u001B[43m(\u001B[49m\u001B[43ms\u001B[49m\u001B[43m,\u001B[49m\u001B[43m \u001B[49m\u001B[43midx\u001B[49m\u001B[38;5;241;43m=\u001B[39;49m\u001B[43m_w\u001B[49m\u001B[43m(\u001B[49m\u001B[43ms\u001B[49m\u001B[43m,\u001B[49m\u001B[43m \u001B[49m\u001B[38;5;241;43m0\u001B[39;49m\u001B[43m)\u001B[49m\u001B[38;5;241;43m.\u001B[39;49m\u001B[43mend\u001B[49m\u001B[43m(\u001B[49m\u001B[43m)\u001B[49m\u001B[43m)\u001B[49m\n\u001B[1;32m    338\u001B[0m end \u001B[38;5;241m=\u001B[39m _w(s, end)\u001B[38;5;241m.\u001B[39mend()\n",
      "File \u001B[0;32m/Library/Developer/CommandLineTools/Library/Frameworks/Python3.framework/Versions/3.9/lib/python3.9/json/decoder.py:355\u001B[0m, in \u001B[0;36mJSONDecoder.raw_decode\u001B[0;34m(self, s, idx)\u001B[0m\n\u001B[1;32m    354\u001B[0m \u001B[38;5;28;01mexcept\u001B[39;00m \u001B[38;5;167;01mStopIteration\u001B[39;00m \u001B[38;5;28;01mas\u001B[39;00m err:\n\u001B[0;32m--> 355\u001B[0m     \u001B[38;5;28;01mraise\u001B[39;00m JSONDecodeError(\u001B[38;5;124m\"\u001B[39m\u001B[38;5;124mExpecting value\u001B[39m\u001B[38;5;124m\"\u001B[39m, s, err\u001B[38;5;241m.\u001B[39mvalue) \u001B[38;5;28;01mfrom\u001B[39;00m \u001B[38;5;28mNone\u001B[39m\n\u001B[1;32m    356\u001B[0m \u001B[38;5;28;01mreturn\u001B[39;00m obj, end\n",
      "\u001B[0;31mJSONDecodeError\u001B[0m: Expecting value: line 1 column 1 (char 0)",
      "\nDuring handling of the above exception, another exception occurred:\n",
      "\u001B[0;31mJSONDecodeError\u001B[0m                           Traceback (most recent call last)",
      "Cell \u001B[0;32mIn [6], line 2\u001B[0m\n\u001B[1;32m      1\u001B[0m ipo_call \u001B[38;5;241m=\u001B[39m \u001B[38;5;124mf\u001B[39m\u001B[38;5;124m\"\u001B[39m\u001B[38;5;124mhttps://eodhistoricaldata.com/api/eod/AAPL.US?api_token=\u001B[39m\u001B[38;5;132;01m{\u001B[39;00mkey\u001B[38;5;132;01m}\u001B[39;00m\u001B[38;5;124m\"\u001B[39m\n\u001B[0;32m----> 2\u001B[0m ipo_data1 \u001B[38;5;241m=\u001B[39m \u001B[43mrequests\u001B[49m\u001B[38;5;241;43m.\u001B[39;49m\u001B[43mget\u001B[49m\u001B[43m(\u001B[49m\u001B[43mipo_call\u001B[49m\u001B[43m)\u001B[49m\u001B[38;5;241;43m.\u001B[39;49m\u001B[43mjson\u001B[49m\u001B[43m(\u001B[49m\u001B[43m)\u001B[49m\n\u001B[1;32m      3\u001B[0m \u001B[38;5;28mprint\u001B[39m(ipo_data1)\n\u001B[1;32m      4\u001B[0m \u001B[38;5;66;03m# ipo_data = pd.DataFrame(requests.get(ipo_call).json())\u001B[39;00m\n\u001B[1;32m      5\u001B[0m \u001B[38;5;66;03m# print(ipo_data)\u001B[39;00m\n",
      "File \u001B[0;32m~/PycharmProjects/eod-data/venv/lib/python3.9/site-packages/requests/models.py:975\u001B[0m, in \u001B[0;36mResponse.json\u001B[0;34m(self, **kwargs)\u001B[0m\n\u001B[1;32m    971\u001B[0m     \u001B[38;5;28;01mreturn\u001B[39;00m complexjson\u001B[38;5;241m.\u001B[39mloads(\u001B[38;5;28mself\u001B[39m\u001B[38;5;241m.\u001B[39mtext, \u001B[38;5;241m*\u001B[39m\u001B[38;5;241m*\u001B[39mkwargs)\n\u001B[1;32m    972\u001B[0m \u001B[38;5;28;01mexcept\u001B[39;00m JSONDecodeError \u001B[38;5;28;01mas\u001B[39;00m e:\n\u001B[1;32m    973\u001B[0m     \u001B[38;5;66;03m# Catch JSON-related errors and raise as requests.JSONDecodeError\u001B[39;00m\n\u001B[1;32m    974\u001B[0m     \u001B[38;5;66;03m# This aliases json.JSONDecodeError and simplejson.JSONDecodeError\u001B[39;00m\n\u001B[0;32m--> 975\u001B[0m     \u001B[38;5;28;01mraise\u001B[39;00m RequestsJSONDecodeError(e\u001B[38;5;241m.\u001B[39mmsg, e\u001B[38;5;241m.\u001B[39mdoc, e\u001B[38;5;241m.\u001B[39mpos)\n",
      "\u001B[0;31mJSONDecodeError\u001B[0m: Expecting value: line 1 column 1 (char 0)"
     ]
    }
   ],
   "source": [
    "ipo_call = f\"https://eodhistoricaldata.com/api/eod/AAPL.US?api_token={key}\"\n",
    "ipo_data1 = requests.get(ipo_call).json()\n",
    "print(ipo_data1)\n",
    "# ipo_data = pd.DataFrame(requests.get(ipo_call).json())\n",
    "# print(ipo_data)"
   ],
   "metadata": {
    "collapsed": false,
    "pycharm": {
     "name": "#%%\n"
    }
   }
  },
  {
   "cell_type": "code",
   "execution_count": null,
   "outputs": [],
   "source": [],
   "metadata": {
    "collapsed": false,
    "pycharm": {
     "name": "#%%\n"
    }
   }
  }
 ],
 "metadata": {
  "kernelspec": {
   "display_name": "Python 3",
   "language": "python",
   "name": "python3"
  },
  "language_info": {
   "codemirror_mode": {
    "name": "ipython",
    "version": 2
   },
   "file_extension": ".py",
   "mimetype": "text/x-python",
   "name": "python",
   "nbconvert_exporter": "python",
   "pygments_lexer": "ipython2",
   "version": "2.7.6"
  }
 },
 "nbformat": 4,
 "nbformat_minor": 0
}